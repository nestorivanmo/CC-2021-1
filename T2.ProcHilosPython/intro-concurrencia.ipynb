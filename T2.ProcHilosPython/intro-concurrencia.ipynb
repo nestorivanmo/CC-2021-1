{
 "metadata": {
  "language_info": {
   "codemirror_mode": {
    "name": "ipython",
    "version": 3
   },
   "file_extension": ".py",
   "mimetype": "text/x-python",
   "name": "python",
   "nbconvert_exporter": "python",
   "pygments_lexer": "ipython3",
   "version": "3.8.5-final"
  },
  "orig_nbformat": 2,
  "kernelspec": {
   "name": "Python 3.8.5 64-bit",
   "display_name": "Python 3.8.5 64-bit",
   "metadata": {
    "interpreter": {
     "hash": "1ee38ef4a5a9feb55287fd749643f13d043cb0a7addaab2a9c224cbe137c0062"
    }
   }
  }
 },
 "nbformat": 4,
 "nbformat_minor": 2,
 "cells": [
  {
   "source": [
    "# Cómputo Concurrente\n",
    "## Multiprocessing\n",
    "El módulo `multiprocessing` de Python permite la creación, manipulación y sincronización de procesos, también ofrece concurrencia local como remota. \n",
    "\n",
    "Ejemplo de motivación...   "
   ],
   "cell_type": "markdown",
   "metadata": {}
  },
  {
   "cell_type": "code",
   "execution_count": 9,
   "metadata": {},
   "outputs": [
    {
     "output_type": "stream",
     "name": "stdout",
     "text": [
      "Calcula el cuadrado: \n",
      "Cuadrado:  0\n",
      "Cuadrado:  1\n",
      "Cuadrado:  4\n",
      "Cuadrado:  9\n",
      "Cuadrado:  16\n",
      "Cuadrado:  25\n",
      "Cuadrado:  36\n",
      "Cuadrado:  49\n",
      "Cuadrado:  64\n",
      "Cuadrado:  81\n",
      "Calcula el cubo: \n",
      "Cubo:  0\n",
      "Cubo:  1\n",
      "Cubo:  8\n",
      "Cubo:  27\n",
      "Cubo:  64\n",
      "Cubo:  125\n",
      "Cubo:  216\n",
      "Cubo:  343\n",
      "Cubo:  512\n",
      "Cubo:  729\n",
      "Tiempo de ejecución:  4.093379735946655\n",
      "Fin de la ejecución\n"
     ]
    }
   ],
   "source": [
    "import time\n",
    "\n",
    "def calc_cuad(numeros):\n",
    "    print(\"Calcula el cuadrado: \")\n",
    "    for n in numeros:\n",
    "        time.sleep(0.2)\n",
    "        print(\"Cuadrado: \", n ** 2)\n",
    "\n",
    "def calc_cubo(numeros):\n",
    "    print(\"Calcula el cubo: \")\n",
    "    for n in numeros:\n",
    "        time.sleep(0.2)\n",
    "        print(\"Cubo: \", n ** 3)\n",
    "\n",
    "nums = range(10)\n",
    "t = time.time()\n",
    "calc_cuad(nums)\n",
    "calc_cubo(nums)\n",
    "print(\"Tiempo de ejecución: \", time.time() - t)\n",
    "print(\"Fin de la ejecución\")"
   ]
  },
  {
   "source": [
    "Una manera sencilla de generar procesos en Python es por medio de la creación del objeto `Process` y llamarlo por el medio del método `start()`"
   ],
   "cell_type": "markdown",
   "metadata": {}
  },
  {
   "cell_type": "code",
   "execution_count": 31,
   "metadata": {},
   "outputs": [],
   "source": [
    "import multiprocessing as mp\n",
    "\n",
    "def tarea(nombre):\n",
    "    print(\"Hola \", nombre)\n",
    "\n",
    "if __name__ == '__main__':\n",
    "    p = mp.Process(target=tarea, args=('Néstor', ))\n",
    "    p.start() #crea la bifurcación\n",
    "    p.join() #regresa a la ejecución del programa principal"
   ]
  },
  {
   "cell_type": "code",
   "execution_count": 33,
   "metadata": {},
   "outputs": [
    {
     "output_type": "stream",
     "name": "stdout",
     "text": [
      "Tiempo de ejecución:  0.14153599739074707\nFin de la ejecución\n"
     ]
    }
   ],
   "source": [
    "import multiprocessing as mp \n",
    "import time\n",
    "\n",
    "def calc_cuad(numeros):\n",
    "    print(\"Calcula el cuadrado: \")\n",
    "    for n in numeros:\n",
    "        time.sleep(0.2)\n",
    "        print(\"Cuadrado: \", n ** 2)\n",
    "\n",
    "def calc_cubo(numeros):\n",
    "    print(\"Calcula el cubo: \")\n",
    "    for n in numeros:\n",
    "        time.sleep(0.2)\n",
    "        print(\"Cubo: \", n ** 3)\n",
    "\n",
    "nums = range(10)\n",
    "t = time.time()\n",
    "p1 = mp.Process(target=calc_cuad, args=(nums,))\n",
    "p2 = mp.Process(target=calc_cubo, args=(nums,))\n",
    "\n",
    "p1.start()\n",
    "p2.start()\n",
    "\n",
    "p1.join()\n",
    "p2.join()\n",
    "\n",
    "print(\"Tiempo de ejecución: \", time.time() - t)\n",
    "print(\"Fin de la ejecución\")"
   ]
  },
  {
   "source": [
    "## Identificadores pid, ppid"
   ],
   "cell_type": "markdown",
   "metadata": {}
  },
  {
   "cell_type": "code",
   "execution_count": 2,
   "metadata": {},
   "outputs": [
    {
     "output_type": "stream",
     "name": "stdout",
     "text": [
      "Nombre del proceso __main__\nProceso padre:  4048\nProceso actual:  4059\n"
     ]
    }
   ],
   "source": [
    "import multiprocessing as mp \n",
    "import os \n",
    "\n",
    "print(\"Nombre del proceso\", __name__)\n",
    "print(\"Proceso padre: \", os.getppid())\n",
    "print(\"Proceso actual: \", os.getpid())"
   ]
  },
  {
   "cell_type": "code",
   "execution_count": 5,
   "metadata": {},
   "outputs": [
    {
     "output_type": "stream",
     "name": "stdout",
     "text": [
      "Inicio\nNombre del proceso: __main__\nProceso padre:  4048\nProceso actual:  4059\n"
     ]
    }
   ],
   "source": [
    "def info(titulo):\n",
    "    print(titulo)\n",
    "    print(\"Nombre del proceso:\", __name__)\n",
    "    print(\"Proceso padre: \", os.getppid())\n",
    "    print(\"Proceso actual: \", os.getpid())\n",
    "\n",
    "def f(nombre):\n",
    "    info(\"Función f\")\n",
    "    print(\"Hola\", nombre)\n",
    "    print(\"---------\")\n",
    "\n",
    "info(\"Inicio\")\n",
    "p = mp.Process(target=f, args=(\"Valeriano\", ))\n",
    "p.start()\n",
    "p.join()"
   ]
  },
  {
   "source": [
    "## Ejercicio: \n",
    "Crea tres procesos hijos, donde:\n",
    "- El primero multiplique 3 números (a,b,c)\n",
    "- El segundo sume (a, b, c)\n",
    "- El tercero (a+b)/c\n",
    "- Todos devolverán el nombre del proceso hijo, el id del proceso hijo, el id del proceso padre y el valor calculado de cada proceso hijo "
   ],
   "cell_type": "markdown",
   "metadata": {}
  },
  {
   "cell_type": "code",
   "execution_count": 23,
   "metadata": {},
   "outputs": [
    {
     "output_type": "stream",
     "name": "stdout",
     "text": [
      "Producto\n",
      "Nombre del proceso: __main__\n",
      "Proceso padre:  40013\n",
      "Proceso actual:  41409\n",
      "6\n",
      "Suma\n",
      "Nombre del proceso: __main__\n",
      "Proceso padre:  40013\n",
      "Proceso actual:  41443\n",
      "7\n",
      "Operación\n",
      "Nombre del proceso: __main__\n",
      "Proceso padre:  40013\n",
      "Proceso actual:  41476\n",
      "1.0\n"
     ]
    }
   ],
   "source": [
    "import multiprocessing as mp\n",
    "import os\n",
    "\n",
    "def proc_info(operation):\n",
    "    print(operation)\n",
    "    print(\"Nombre del proceso:\", __name__)\n",
    "    print(\"Proceso padre: \", os.getppid())\n",
    "    print(\"Proceso actual: \", os.getpid())\n",
    "\n",
    "def product(l):\n",
    "    proc_info(\"Producto\")\n",
    "    r = 1\n",
    "    for i in l:\n",
    "        r *= i\n",
    "    print(r)\n",
    "\n",
    "def sum(l):\n",
    "    proc_info(\"Suma\")\n",
    "    r = 1\n",
    "    for i in l:\n",
    "        r += i\n",
    "    print(r)\n",
    "\n",
    "def op(a, b, c):\n",
    "    proc_info(\"Operación\")\n",
    "    print((a+b)/c)\n",
    "\n",
    "if __name__ == '__main__':\n",
    "    l = [1,2,3]\n",
    "    p1 = mp.Process(target=product, args=(l, ))\n",
    "    p2 = mp.Process(target=sum, args=(l, ))\n",
    "    p3 = mp.Process(target=op, args=(l[0], l[1], l[2], ))\n",
    "    p1.start()\n",
    "    p1.join()\n",
    "    p2.start()\n",
    "    p2.join()\n",
    "    p3.start()\n",
    "    p3.join()\n",
    "    "
   ]
  },
  {
   "cell_type": "code",
   "execution_count": 25,
   "metadata": {},
   "outputs": [
    {
     "output_type": "stream",
     "name": "stdout",
     "text": [
      "cuadradro: 0\n",
      "cuadradro: 1\n",
      "cuadradro: 4\n",
      "cuadradro: 9\n",
      "cuadradro: 16\n",
      "cuadradro: 25\n",
      "cuadradro: 36\n",
      "cuadradro: 49\n",
      "cuadradro: 64\n",
      "cuadradro: 81\n",
      "Tiempo de ejecución:  0.06412720680236816\n",
      "Resultado del proceso:  []\n",
      "Fin de la ejecución\n"
     ]
    }
   ],
   "source": [
    "import time\n",
    "\n",
    "num_res = []\n",
    "\n",
    "def calc_cuad(numeros):\n",
    "    global num_res\n",
    "    for n in numeros:\n",
    "        print('cuadradro:', n*n)\n",
    "        num_res.append(n*n)\n",
    "\n",
    "nums = range(10)\n",
    "t = time.time()\n",
    "p1 = mp.Process(target=calc_cuad, args=(nums, ))\n",
    "\n",
    "p1.start()\n",
    "p1.join()\n",
    "\n",
    "print(\"Tiempo de ejecución: \", time.time() - t)\n",
    "print(\"Resultado del proceso: \", num_res)\n",
    "print(\"Fin de la ejecución\")"
   ]
  }
 ]
}