{
 "metadata": {
  "language_info": {
   "codemirror_mode": {
    "name": "ipython",
    "version": 3
   },
   "file_extension": ".py",
   "mimetype": "text/x-python",
   "name": "python",
   "nbconvert_exporter": "python",
   "pygments_lexer": "ipython3",
   "version": "3.8.5-final"
  },
  "orig_nbformat": 2,
  "kernelspec": {
   "name": "Python 3.8.5 64-bit",
   "display_name": "Python 3.8.5 64-bit",
   "metadata": {
    "interpreter": {
     "hash": "1ee38ef4a5a9feb55287fd749643f13d043cb0a7addaab2a9c224cbe137c0062"
    }
   }
  }
 },
 "nbformat": 4,
 "nbformat_minor": 2,
 "cells": [
  {
   "source": [
    "# Cómputo Concurrente\n",
    "## Multiprocessing\n",
    "El módulo `multiprocessing` de Python permite la creación, manipulación y sincronización de procesos, también ofrece concurrencia local como remota. \n",
    "\n",
    "Ejemplo de motivación...   "
   ],
   "cell_type": "markdown",
   "metadata": {}
  },
  {
   "cell_type": "code",
   "execution_count": 9,
   "metadata": {},
   "outputs": [
    {
     "output_type": "stream",
     "name": "stdout",
     "text": [
      "Calcula el cuadrado: \n",
      "Cuadrado:  0\n",
      "Cuadrado:  1\n",
      "Cuadrado:  4\n",
      "Cuadrado:  9\n",
      "Cuadrado:  16\n",
      "Cuadrado:  25\n",
      "Cuadrado:  36\n",
      "Cuadrado:  49\n",
      "Cuadrado:  64\n",
      "Cuadrado:  81\n",
      "Calcula el cubo: \n",
      "Cubo:  0\n",
      "Cubo:  1\n",
      "Cubo:  8\n",
      "Cubo:  27\n",
      "Cubo:  64\n",
      "Cubo:  125\n",
      "Cubo:  216\n",
      "Cubo:  343\n",
      "Cubo:  512\n",
      "Cubo:  729\n",
      "Tiempo de ejecución:  4.093379735946655\n",
      "Fin de la ejecución\n"
     ]
    }
   ],
   "source": [
    "import time\n",
    "\n",
    "def calc_cuad(numeros):\n",
    "    print(\"Calcula el cuadrado: \")\n",
    "    for n in numeros:\n",
    "        time.sleep(0.2)\n",
    "        print(\"Cuadrado: \", n ** 2)\n",
    "\n",
    "def calc_cubo(numeros):\n",
    "    print(\"Calcula el cubo: \")\n",
    "    for n in numeros:\n",
    "        time.sleep(0.2)\n",
    "        print(\"Cubo: \", n ** 3)\n",
    "\n",
    "nums = range(10)\n",
    "t = time.time()\n",
    "calc_cuad(nums)\n",
    "calc_cubo(nums)\n",
    "print(\"Tiempo de ejecución: \", time.time() - t)\n",
    "print(\"Fin de la ejecución\")"
   ]
  },
  {
   "source": [
    "Una manera sencilla de generar procesos en Python es por medio de la creación del objeto `Process` y llamarlo por el medio del método `start()`"
   ],
   "cell_type": "markdown",
   "metadata": {}
  },
  {
   "cell_type": "code",
   "execution_count": 31,
   "metadata": {},
   "outputs": [],
   "source": [
    "import multiprocessing as mp\n",
    "\n",
    "def tarea(nombre):\n",
    "    print(\"Hola \", nombre)\n",
    "\n",
    "if __name__ == '__main__':\n",
    "    p = mp.Process(target=tarea, args=('Néstor', ))\n",
    "    p.start() #crea la bifurcación\n",
    "    p.join() #regresa a la ejecución del programa principal"
   ]
  },
  {
   "cell_type": "code",
   "execution_count": 33,
   "metadata": {},
   "outputs": [
    {
     "output_type": "stream",
     "name": "stdout",
     "text": [
      "Tiempo de ejecución:  0.14153599739074707\nFin de la ejecución\n"
     ]
    }
   ],
   "source": [
    "import multiprocessing as mp \n",
    "import time\n",
    "\n",
    "def calc_cuad(numeros):\n",
    "    print(\"Calcula el cuadrado: \")\n",
    "    for n in numeros:\n",
    "        time.sleep(0.2)\n",
    "        print(\"Cuadrado: \", n ** 2)\n",
    "\n",
    "def calc_cubo(numeros):\n",
    "    print(\"Calcula el cubo: \")\n",
    "    for n in numeros:\n",
    "        time.sleep(0.2)\n",
    "        print(\"Cubo: \", n ** 3)\n",
    "\n",
    "nums = range(10)\n",
    "t = time.time()\n",
    "p1 = mp.Process(target=calc_cuad, args=(nums,))\n",
    "p2 = mp.Process(target=calc_cubo, args=(nums,))\n",
    "\n",
    "p1.start()\n",
    "p2.start()\n",
    "\n",
    "p1.join()\n",
    "p2.join()\n",
    "\n",
    "print(\"Tiempo de ejecución: \", time.time() - t)\n",
    "print(\"Fin de la ejecución\")"
   ]
  },
  {
   "source": [
    "## Identificadores pid, ppid"
   ],
   "cell_type": "markdown",
   "metadata": {}
  },
  {
   "cell_type": "code",
   "execution_count": 2,
   "metadata": {},
   "outputs": [
    {
     "output_type": "stream",
     "name": "stdout",
     "text": [
      "Nombre del proceso __main__\nProceso padre:  4048\nProceso actual:  4059\n"
     ]
    }
   ],
   "source": [
    "import multiprocessing as mp \n",
    "import os \n",
    "\n",
    "print(\"Nombre del proceso\", __name__)\n",
    "print(\"Proceso padre: \", os.getppid())\n",
    "print(\"Proceso actual: \", os.getpid())"
   ]
  },
  {
   "cell_type": "code",
   "execution_count": 5,
   "metadata": {},
   "outputs": [
    {
     "output_type": "stream",
     "name": "stdout",
     "text": [
      "Inicio\nNombre del proceso: __main__\nProceso padre:  4048\nProceso actual:  4059\n"
     ]
    }
   ],
   "source": [
    "def info(titulo):\n",
    "    print(titulo)\n",
    "    print(\"Nombre del proceso:\", __name__)\n",
    "    print(\"Proceso padre: \", os.getppid())\n",
    "    print(\"Proceso actual: \", os.getpid())\n",
    "\n",
    "def f(nombre):\n",
    "    info(\"Función f\")\n",
    "    print(\"Hola\", nombre)\n",
    "    print(\"---------\")\n",
    "\n",
    "info(\"Inicio\")\n",
    "p = mp.Process(target=f, args=(\"Valeriano\", ))\n",
    "p.start()\n",
    "p.join()"
   ]
  },
  {
   "source": [
    "## Ejercicio: \n",
    "Crea tres procesos hijos, donde:\n",
    "- El primero multiplique 3 números (a,b,c)\n",
    "- El segundo sume (a, b, c)\n",
    "- El tercero (a+b)/c\n",
    "- Todos devolverán el nombre del proceso hijo, el id del proceso hijo, el id del proceso padre y el valor calculado de cada proceso hijo "
   ],
   "cell_type": "markdown",
   "metadata": {}
  },
  {
   "cell_type": "code",
   "execution_count": 23,
   "metadata": {},
   "outputs": [
    {
     "output_type": "stream",
     "name": "stdout",
     "text": [
      "Producto\n",
      "Nombre del proceso: __main__\n",
      "Proceso padre:  40013\n",
      "Proceso actual:  41409\n",
      "6\n",
      "Suma\n",
      "Nombre del proceso: __main__\n",
      "Proceso padre:  40013\n",
      "Proceso actual:  41443\n",
      "7\n",
      "Operación\n",
      "Nombre del proceso: __main__\n",
      "Proceso padre:  40013\n",
      "Proceso actual:  41476\n",
      "1.0\n"
     ]
    }
   ],
   "source": [
    "import multiprocessing as mp\n",
    "import os\n",
    "\n",
    "def proc_info(operation):\n",
    "    print(operation)\n",
    "    print(\"Nombre del proceso:\", __name__)\n",
    "    print(\"Proceso padre: \", os.getppid())\n",
    "    print(\"Proceso actual: \", os.getpid())\n",
    "\n",
    "def product(l):\n",
    "    proc_info(\"Producto\")\n",
    "    r = 1\n",
    "    for i in l:\n",
    "        r *= i\n",
    "    print(r)\n",
    "\n",
    "def sum(l):\n",
    "    proc_info(\"Suma\")\n",
    "    r = 1\n",
    "    for i in l:\n",
    "        r += i\n",
    "    print(r)\n",
    "\n",
    "def op(a, b, c):\n",
    "    proc_info(\"Operación\")\n",
    "    print((a+b)/c)\n",
    "\n",
    "if __name__ == '__main__':\n",
    "    l = [1,2,3]\n",
    "    p1 = mp.Process(target=product, args=(l, ))\n",
    "    p2 = mp.Process(target=sum, args=(l, ))\n",
    "    p3 = mp.Process(target=op, args=(l[0], l[1], l[2], ))\n",
    "    p1.start()\n",
    "    p1.join()\n",
    "    p2.start()\n",
    "    p2.join()\n",
    "    p3.start()\n",
    "    p3.join()\n",
    "    "
   ]
  },
  {
   "cell_type": "code",
   "execution_count": 26,
   "metadata": {},
   "outputs": [
    {
     "output_type": "stream",
     "name": "stdout",
     "text": [
      "cuadradro: 0\n",
      "cuadradro: 1\n",
      "cuadradro: 4\n",
      "cuadradro: 9\n",
      "cuadradro: 16\n",
      "cuadradro: 25\n",
      "cuadradro: 36\n",
      "cuadradro: 49\n",
      "cuadradro: 64\n",
      "cuadradro: 81\n",
      "Tiempo de ejecución:  0.05744123458862305\n",
      "Resultado del proceso:  []\n",
      "Fin de la ejecución\n"
     ]
    }
   ],
   "source": [
    "import time\n",
    "\n",
    "num_res = []\n",
    "\n",
    "def calc_cuad(numeros):\n",
    "    global num_res\n",
    "    for n in numeros:\n",
    "        print('cuadradro:', n*n)\n",
    "        num_res.append(n*n)\n",
    "\n",
    "nums = range(10)\n",
    "t = time.time()\n",
    "p1 = mp.Process(target=calc_cuad, args=(nums, ))\n",
    "\n",
    "p1.start()\n",
    "p1.join()\n",
    "\n",
    "print(\"Tiempo de ejecución: \", time.time() - t)\n",
    "print(\"Resultado del proceso: \", num_res)\n",
    "print(\"Fin de la ejecución\")"
   ]
  },
  {
   "cell_type": "code",
   "execution_count": 2,
   "metadata": {},
   "outputs": [
    {
     "output_type": "execute_result",
     "data": {
      "text/plain": [
       "8"
      ]
     },
     "metadata": {},
     "execution_count": 2
    }
   ],
   "source": [
    "import multiprocessing\n",
    "multiprocessing.cpu_count()"
   ]
  },
  {
   "cell_type": "code",
   "execution_count": 4,
   "metadata": {},
   "outputs": [
    {
     "output_type": "stream",
     "name": "stdout",
     "text": [
      "Proceso PADRE con PID: 10277\n",
      "Proceso HIJO con PID: 10413\n",
      "Fin del proceso hijo\n"
     ]
    }
   ],
   "source": [
    "import time\n",
    "def TareaHijo():\n",
    "    print(\"Proceso HIJO con PID: {}\".format(multiprocessing.current_process().pid))\n",
    "    time.sleep(3)\n",
    "    print(\"Fin del proceso hijo\")\n",
    "def main():\n",
    "    print(\"Proceso PADRE con PID: {}\".format(multiprocessing.current_process().pid))\n",
    "    myProcess = multiprocessing.Process(target=TareaHijo)\n",
    "    myProcess.start()\n",
    "    myProcess.join()\n",
    "if __name__ == '__main__':\n",
    "    main()"
   ]
  },
  {
   "source": [
    "Es posible asignar un nombre a un proceso hijo que ha sido creado, por medio del argumento `name` se asigna el nombre del proceso hijo."
   ],
   "cell_type": "markdown",
   "metadata": {}
  },
  {
   "cell_type": "code",
   "execution_count": 10,
   "metadata": {},
   "outputs": [
    {
     "output_type": "stream",
     "name": "stdout",
     "text": [
      "Proceso con nombre: Proceso_LCD_CC\n"
     ]
    }
   ],
   "source": [
    "def myProcess():\n",
    "    print(\"Proceso con nombre: {}\".format(multiprocessing.current_process().name))\n",
    "\n",
    "def main():\n",
    "    childProcess = multiprocessing.Process(target=myProcess, name='Proceso_LCD_CC')\n",
    "    childProcess.start()\n",
    "    childProcess.join()\n",
    "main()"
   ]
  },
  {
   "cell_type": "code",
   "execution_count": 14,
   "metadata": {},
   "outputs": [
    {
     "output_type": "stream",
     "name": "stdout",
     "text": [
      "Starting process Worker 1...\n",
      "Starting process Worker 2 ...\n",
      "Starting process Process-19...\n",
      "Exiting process Worker 1...\n",
      "Exiting process Process-19...\n",
      "Exiting process Worker 2...\n"
     ]
    }
   ],
   "source": [
    "from multiprocessing import Process, current_process\n",
    "import time \n",
    "\n",
    "def f1():\n",
    "    pname = current_process().name\n",
    "    print(\"Starting process %s...\" % pname)\n",
    "    time.sleep(2)\n",
    "    print(\"Exiting process %s...\" % pname)\n",
    "\n",
    "def f2():\n",
    "    pname = current_process().name\n",
    "    print(\"Starting process %s ...\" % pname)\n",
    "    time.sleep(4)\n",
    "    print(\"Exiting process %s...\" % pname)\n",
    "\n",
    "if __name__ == '__main__':\n",
    "    p1 = Process(name='Worker 1', target=f1)\n",
    "    p2 = Process(name='Worker 2', target=f2)\n",
    "    p3 = Process(target=f1)\n",
    "    p1.start()\n",
    "    p2.start()\n",
    "    p3.start()\n",
    "    \n",
    "    p1.join()\n",
    "    p2.join()\n",
    "    p3.join()\n"
   ]
  },
  {
   "source": [
    "Algunas veces es importante esperar que los procesos que se están ejecutando hasta que terminen la tarea que están llevanod a cabo. Por medio del método `join()` se implementa el mecanismo de espera hasta que el proceso ha completado su tarea. \n",
    "\n",
    "Un proceso que está en ejecución puee ser cancelado o interrumpido por medio de la función `terminate()`"
   ],
   "cell_type": "markdown",
   "metadata": {}
  },
  {
   "cell_type": "code",
   "execution_count": 19,
   "metadata": {},
   "outputs": [
    {
     "output_type": "stream",
     "name": "stdout",
     "text": [
      "Proceso padre ha terminado, termina el proceso main\nTerminando el proceso hijo...\nProceso hijo ha terminado exitosamente\n"
     ]
    }
   ],
   "source": [
    "def TareaProceso():\n",
    "    proceso_actual = multiprocessing.current_process()\n",
    "    print(\"Procesos hijo PID: {}\".format(proceso_actual.pid))\n",
    "    time.sleep(20)\n",
    "    proceso_actual = multiprocessing.current_process()\n",
    "    print(\"Proceso padre PID: {}\".format(proceso_actual.pid))\n",
    "\n",
    "miProceso = multiprocessing.Process(target=TareaProceso)\n",
    "miProceso.start()\n",
    "# miProceso.join() #descomentar para ver la funcionalidad de join\n",
    "\n",
    "print(\"Proceso padre ha terminado, termina el proceso main\")\n",
    "print(\"Terminando el proceso hijo...\")\n",
    "miProceso.terminate()\n",
    "print(\"Proceso hijo ha terminado exitosamente\")"
   ]
  },
  {
   "source": [
    "```join()``` es una función que asegura que el proceso hijo va a terminar. "
   ],
   "cell_type": "markdown",
   "metadata": {}
  },
  {
   "source": [
    "### Ejercicio: \n",
    "1. Vamos a crear 3 procesos los cuales tendrán nombre y código definido como funP1, funP2, funP3. Cada hijo escribirá su nombre, pid y el pid del padre, además de hacer un cálculo sobre tres valores a, b y c. \n",
    "2. El proceso 1 calcula $a*b + c$, el segundo proceso calcula $a*b*c$ y el tercer proceso calcula $(a*b)/c$\n",
    "3. Crea un mecanismo para terminar alguno de los procesos de forma aleatoria"
   ],
   "cell_type": "markdown",
   "metadata": {}
  },
  {
   "cell_type": "code",
   "execution_count": 86,
   "metadata": {},
   "outputs": [
    {
     "output_type": "stream",
     "name": "stdout",
     "text": [
      "a: 10 b: 20 c: 30\n",
      "Nombre: Proc1Terminating process:  Proc1\n",
      "Nombre: Proc2 PID: 17289 PID padre: 10277\n",
      "Nombre: Proc3 PID: 17294 PID padre: 10277\n",
      "funP2->a*b*c =  6000\n",
      "funP3->(a*b)/c =  6.666666666666667\n"
     ]
    }
   ],
   "source": [
    "from random import randint\n",
    "from multiprocessing import Process, current_process\n",
    "from time import sleep\n",
    "from os import getppid\n",
    "\n",
    "def proc_info():\n",
    "    proc = current_process()\n",
    "    print(\"Nombre:\", proc.name, \"PID:\", proc.pid, \"PID padre:\", getppid())\n",
    "\n",
    "def funP1(a, b, c):\n",
    "    proc_info()\n",
    "    sleep(2)\n",
    "    print(\"funP1->a*b+c = \", a*b + c)\n",
    "\n",
    "def funP2(a, b, c):\n",
    "    time.sleep(1)\n",
    "    proc_info()\n",
    "    sleep(3)\n",
    "    print(\"funP2->a*b*c = \", a*b*c)\n",
    "\n",
    "def funP3(a, b, c):\n",
    "    time.sleep(2)\n",
    "    proc_info()\n",
    "    sleep(4)\n",
    "    print(\"funP3->(a*b)/c = \", (a*b)/c)\n",
    "\n",
    "def random_proc_to_terminate(procs):\n",
    "    r = randint(1, len(procs))\n",
    "    p = procs[r-1]\n",
    "    print(\"Terminating process: \", p.name)\n",
    "    p.terminate()\n",
    "\n",
    "if __name__ == '__main__':\n",
    "    a, b, c = 10, 20, 30\n",
    "    p1 = Process(target=funP1, name=\"Proc1\", args=(a, b, c, ))\n",
    "    p2 = Process(target=funP2, name=\"Proc2\", args=(a, b, c, ))\n",
    "    p3 = Process(target=funP3, name=\"Proc3\", args=(a, b, c, ))\n",
    "    procs = [p1, p2, p3]\n",
    "    print(\"a:\", a, \"b:\", b, \"c:\", c)\n",
    "    p1.start()\n",
    "    p2.start()\n",
    "    p3.start()\n",
    "    random_proc_to_terminate(procs)\n",
    "    p1.join()\n",
    "    p2.join()\n",
    "    p3.join()"
   ]
  },
  {
   "source": [
    "## Deamon Process\n",
    "A veces se requiere crear procesos que corran en silencio (*background*) y no bloquear el proceso principal al finalizarlos. Esta espeficación es communmente utilizada cuando el proceso principal no tiene la certeza de interrumpir un proceso después de esperar cierto tiempo o finalizar sin que haya terminado el proceso hijo sin afectaciones al resultado final. \n",
    "\n",
    "Por medio del atribut `deamon` del método `Process` se crea un proceso de este tipo. El valor por defecto del atributo `deamon` es `False` por lo tanto se establece a `True` para crear el proceso demonio. "
   ],
   "cell_type": "markdown",
   "metadata": {}
  },
  {
   "cell_type": "code",
   "execution_count": 98,
   "metadata": {},
   "outputs": [
    {
     "output_type": "stream",
     "name": "stdout",
     "text": [
      "Starting process Worker 1, ID 18056...\n",
      "Starting process Worker 2, ID 18061...\n",
      "Exiting process Worker 2, ID 18061...\n",
      "Exiting process Worker 1, ID 18056...\n"
     ]
    }
   ],
   "source": [
    "from multiprocessing import Process, current_process\n",
    "import time \n",
    "\n",
    "def f1():\n",
    "    p = current_process()\n",
    "    print(\"Starting process %s, ID %s...\" % (p.name, p.pid))\n",
    "    time.sleep(8)\n",
    "    print(\"Exiting process %s, ID %s...\" % (p.name, p.pid))\n",
    "\n",
    "def f2():\n",
    "    p = current_process()\n",
    "    print(\"Starting process %s, ID %s...\" % (p.name, p.pid))\n",
    "    time.sleep(2)\n",
    "    print(\"Exiting process %s, ID %s...\" % (p.name, p.pid))\n",
    "\n",
    "if __name__ == '__main__':\n",
    "    p1 = Process(name='Worker 1', target=f1)\n",
    "    p1.daemon = True\n",
    "    p2 = Process(name='Worker 2', target=f2)\n",
    "\n",
    "    p1.start()\n",
    "    time.sleep(1)\n",
    "    p2.start()"
   ]
  },
  {
   "cell_type": "code",
   "execution_count": null,
   "metadata": {},
   "outputs": [],
   "source": []
  }
 ]
}