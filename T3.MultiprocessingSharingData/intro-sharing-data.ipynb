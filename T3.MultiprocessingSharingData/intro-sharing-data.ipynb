{
 "metadata": {
  "language_info": {
   "codemirror_mode": {
    "name": "ipython",
    "version": 3
   },
   "file_extension": ".py",
   "mimetype": "text/x-python",
   "name": "python",
   "nbconvert_exporter": "python",
   "pygments_lexer": "ipython3",
   "version": "3.8.5-final"
  },
  "orig_nbformat": 2,
  "kernelspec": {
   "name": "python3",
   "display_name": "Python 3"
  }
 },
 "nbformat": 4,
 "nbformat_minor": 2,
 "cells": [
  {
   "source": [
    "# Proceso como objeto\n",
    "En el siguiente ejemplo se muestra como crear un proceso por medio de la definición de la clase `MyProcess` que hereda de la clase base `multiprocessing.Process`. La clase creada incluye un constructor y un método `run`."
   ],
   "cell_type": "markdown",
   "metadata": {}
  },
  {
   "cell_type": "code",
   "execution_count": 1,
   "metadata": {},
   "outputs": [
    {
     "output_type": "stream",
     "name": "stdout",
     "text": [
      "Main process PID: 30119\n",
      "Child process PID: 30216\n"
     ]
    }
   ],
   "source": [
    "import multiprocessing\n",
    "\n",
    "class MyProcess(multiprocessing.Process):\n",
    "    def __init__(self):\n",
    "        super(MyProcess, self).__init__()\n",
    "\n",
    "    def run(self):\n",
    "        print(\"Child process PID: {}\".format(multiprocessing.current_process().pid))\n",
    "\n",
    "if __name__ == '__main__':\n",
    "    print(\"Main process PID: {}\".format(multiprocessing.current_process().pid))\n",
    "    my_process = MyProcess()\n",
    "    my_process.start()\n",
    "    my_process.join()"
   ]
  },
  {
   "source": [
    "## Comunicación entre procesos\n",
    "Consideremos el siguiente ejemplo donde el proceso padre quiere consultar el resultado de una operación que ejecutó el proceso hijo: "
   ],
   "cell_type": "markdown",
   "metadata": {}
  },
  {
   "cell_type": "code",
   "execution_count": 2,
   "metadata": {},
   "outputs": [],
   "source": [
    "import multiprocessing as mp\n",
    "import time\n",
    "import os"
   ]
  },
  {
   "cell_type": "code",
   "execution_count": 3,
   "metadata": {},
   "outputs": [
    {
     "output_type": "stream",
     "name": "stdout",
     "text": [
      "cuadrado:  0\n",
      "cuadrado:  1\n",
      "cuadrado:  4\n",
      "cuadrado:  9\n",
      "cuadrado:  16\n",
      "cuadrado:  25\n",
      "cuadrado:  36\n",
      "cuadrado:  49\n",
      "cuadrado:  64\n",
      "cuadrado:  81\n",
      "Tiempo de ejecución:  0.09531569480895996\n",
      "Resultado operación:  []\n",
      "Finaliza ejecución\n"
     ]
    }
   ],
   "source": [
    "num_res = []\n",
    "\n",
    "def calc_cuad(numeros):\n",
    "    global num_res\n",
    "    for n in numeros:\n",
    "        print(\"cuadrado: \", n*n)\n",
    "        num_res.append(n * n)\n",
    "\n",
    "nums = range(10)\n",
    "t = time.time()\n",
    "p1 = mp.Process(target=calc_cuad, args=(nums, ))\n",
    "p1.start()\n",
    "p1.join()\n",
    "\n",
    "print(\"Tiempo de ejecución: \", time.time()-t)\n",
    "print(\"Resultado operación: \", num_res)\n",
    "print(\"Finaliza ejecución\")\n"
   ]
  },
  {
   "source": [
    "Los procesos tienen su propio espacio de memoria. Así, las variables del programa no se comparten entre procesos. Es necesario crear comunicación entre procesos (IPC) si se desea compoartir variables. El módulo `multiprocessing` permite la comunicación por medio de pipes y colas. "
   ],
   "cell_type": "markdown",
   "metadata": {}
  },
  {
   "source": [
    "## Memoria Compartida\n",
    "Cuando se realiza una programación concurrente, generalmente es mejor evitar el uso de recursos compartidos en la medida de lo posible. Esto es cierto cuando se utilizan múltiples procesos. Sin embargo, si se necesita utilizar algunos datos compartidos, el multiprocesamiento proporciona los medios necesarios para hacerlo. En memoria caché se guarda la memoria de cada proceso, es decir, cada proceso tendrá su memoria caché. \n",
    "\n",
    "Memoria: \n",
    "- $P1$:\n",
    "    - registros\n",
    "    - mem caché \n",
    "\n",
    "- $P2$:\n",
    "    - registros\n",
    "    - mem caché \n",
    "\n",
    "- $P3$:\n",
    "    - registros\n",
    "    - mem caché "
   ],
   "cell_type": "markdown",
   "metadata": {}
  },
  {
   "cell_type": "code",
   "execution_count": 5,
   "metadata": {},
   "outputs": [
    {
     "output_type": "stream",
     "name": "stdout",
     "text": [
      "0 3\n1 4\n2 5\n"
     ]
    }
   ],
   "source": [
    "nums = [3, 4, 5]\n",
    "for idx, i in enumerate(nums):\n",
    "    print(idx, i)"
   ]
  },
  {
   "cell_type": "code",
   "execution_count": 6,
   "metadata": {},
   "outputs": [
    {
     "output_type": "stream",
     "name": "stdout",
     "text": [
      "0 0\n1 1\n2 2\n3 3\n4 4\n5 5\n6 6\n7 7\n8 8\n9 9\n"
     ]
    }
   ],
   "source": [
    "nums = range(10)\n",
    "for idx, i in enumerate(nums):\n",
    "    print(idx, i)"
   ]
  },
  {
   "source": [
    "Se pueden compartir los datos del proceso hijo al proceso padre por medio del método `Array` de `multiprocessing`. "
   ],
   "cell_type": "markdown",
   "metadata": {}
  },
  {
   "cell_type": "code",
   "execution_count": 11,
   "metadata": {},
   "outputs": [
    {
     "output_type": "stream",
     "name": "stdout",
     "text": [
      "Resultado del proceso:  [0, 1, 4, 9, 16, 25, 36, 49, 64, 81]\n",
      "Resultado fuera del proceso [0, 1, 4, 9, 16, 25, 36, 49, 64, 81]\n",
      "Tiempo de ejecución:  0.021578550338745117\n",
      "Finaliza la ejecución\n"
     ]
    }
   ],
   "source": [
    "def calc_cuad(numeros, result):\n",
    "    for idx, n in enumerate(numeros):\n",
    "        result[idx] = n*n\n",
    "    print(\"Resultado del proceso: \", result[:])\n",
    "\n",
    "nums = range(10)\n",
    "t = time.time()\n",
    "result = mp.Array('i', 10)\n",
    "p1 = mp.Process(target=calc_cuad, args=(nums, result))\n",
    "\n",
    "p1.start()\n",
    "p1.join()\n",
    "\n",
    "print(\"Resultado fuera del proceso\", result[:])\n",
    "print(\"Tiempo de ejecución: \", time.time() - t)\n",
    "print(\"Finaliza la ejecución\")"
   ]
  },
  {
   "source": [
    "También es posible compartir valores unitarios del proceso hijo de otra manera: `Value`"
   ],
   "cell_type": "markdown",
   "metadata": {}
  },
  {
   "cell_type": "code",
   "execution_count": 13,
   "metadata": {},
   "outputs": [
    {
     "output_type": "stream",
     "name": "stdout",
     "text": [
      "Resultado del proceso:  [0, 1, 4, 9, 16, 25, 36, 49, 64, 81]\n",
      "Resultado fuera del proceso [0, 1, 4, 9, 16, 25, 36, 49, 64, 81]\n",
      "Resultado fuera del proceso 5.35\n",
      "Tiempo de ejecución:  0.02597665786743164\n",
      "Finaliza la ejecución\n"
     ]
    }
   ],
   "source": [
    "def calc_cuad(numeros, result, val):\n",
    "    val.value = 5.35\n",
    "    for idx, n in enumerate(numeros):\n",
    "        result[idx] = n*n\n",
    "    print(\"Resultado del proceso: \", result[:])\n",
    "\n",
    "nums = range(10)\n",
    "t = time.time()\n",
    "result = mp.Array('i', 10)\n",
    "val = mp.Value('d', 0.0)\n",
    "p1 = mp.Process(target=calc_cuad, args=(nums, result, val))\n",
    "\n",
    "p1.start()\n",
    "p1.join()\n",
    "\n",
    "print(\"Resultado fuera del proceso\", result[:])\n",
    "print(\"Resultado fuera del proceso\", val.value)\n",
    "print(\"Tiempo de ejecución: \", time.time() - t)\n",
    "print(\"Finaliza la ejecución\")"
   ]
  },
  {
   "source": [
    "## Pipes    \n"
   ],
   "cell_type": "markdown",
   "metadata": {}
  },
  {
   "cell_type": "code",
   "execution_count": 14,
   "metadata": {},
   "outputs": [
    {
     "output_type": "stream",
     "name": "stdout",
     "text": [
      "['hello world']\n"
     ]
    }
   ],
   "source": [
    "from multiprocessing import Process, Pipe\n",
    "\n",
    "def f(conn):\n",
    "    conn.send([\"hello world\"])\n",
    "    conn.close()\n",
    "\n",
    "if __name__ == \"__main__\":\n",
    "    parent_conn, child_conn = Pipe()\n",
    "    p = Process(target=f, args=(child_conn, ))\n",
    "    p.start()\n",
    "    print(parent_conn.recv())\n",
    "    p.join()"
   ]
  },
  {
   "source": [
    "### Doble comunicación"
   ],
   "cell_type": "markdown",
   "metadata": {}
  },
  {
   "cell_type": "code",
   "execution_count": 24,
   "metadata": {},
   "outputs": [
    {
     "output_type": "stream",
     "name": "stdout",
     "text": [
      "Sent from the main process\n",
      "Sent from the child process\n"
     ]
    }
   ],
   "source": [
    "from multiprocessing import Process, Pipe\n",
    "def worker(conn):\n",
    "    print(conn.recv())\n",
    "    conn.send(\"Sent from the child process\")\n",
    "    conn.close() \n",
    "\n",
    "conn1, conn2 = Pipe()\n",
    "process = Process(target=worker, args=(conn2, ))\n",
    "process.start()\n",
    "\n",
    "conn1.send(\"Sent from the main process\")\n",
    "print(conn1.recv())\n",
    "process.join()"
   ]
  },
  {
   "source": [
    "Ejercicio: extiende el código para que dos procesos reciban un mensaje del padre y cada uno devuelva un mensaje al padre. "
   ],
   "cell_type": "markdown",
   "metadata": {}
  },
  {
   "cell_type": "code",
   "execution_count": 26,
   "metadata": {},
   "outputs": [
    {
     "output_type": "stream",
     "name": "stdout",
     "text": [
      "Carlos\n",
      "Renata\n",
      "Rebeca\n",
      "Sandra\n"
     ]
    }
   ],
   "source": [
    "from multiprocessing import Process, Pipe\n",
    "\n",
    "nombres = [\"Carlos\", \"Renata\", \"Rebeca\", \"Sandra\", \"END\"]\n",
    "\n",
    "def send_msgs(conn, msgs):\n",
    "    for msg in msgs:\n",
    "        conn.send(msg)\n",
    "    conn.close()\n",
    "\n",
    "def recv_msgs(conn):\n",
    "    while 1:\n",
    "        msg = conn.recv()\n",
    "        if msg == \"END\":\n",
    "            break\n",
    "        print(msg)\n",
    "\n",
    "parent_conn, child_conn = Pipe()\n",
    "p1 = Process(target=send_msgs, args=(parent_conn, nombres))\n",
    "p2 = Process(target=recv_msgs, args=(child_conn,))\n",
    "p1.start()\n",
    "p2.start()\n",
    "p1.join()\n",
    "p2.join()"
   ]
  },
  {
   "source": [
    "## Colas\n"
   ],
   "cell_type": "markdown",
   "metadata": {}
  },
  {
   "cell_type": "code",
   "execution_count": 29,
   "metadata": {},
   "outputs": [
    {
     "output_type": "stream",
     "name": "stdout",
     "text": [
      "[42, None, 'hello']\n"
     ]
    }
   ],
   "source": [
    "from multiprocessing import Process, Queue\n",
    "\n",
    "def f(q):\n",
    "    q.put([42, None, 'hello'])\n",
    "\n",
    "if __name__ == '__main__':\n",
    "    q = Queue()\n",
    "    p = Process(target=f, args=(q, ))\n",
    "    p.start()\n",
    "    print(q.get())\n",
    "    p.join()"
   ]
  },
  {
   "cell_type": "code",
   "execution_count": 31,
   "metadata": {},
   "outputs": [
    {
     "output_type": "stream",
     "name": "stdout",
     "text": [
      "0\n1\n4\n9\n16\n25\n36\n49\n64\n81\n"
     ]
    }
   ],
   "source": [
    "import multiprocessing\n",
    "\n",
    "def calc_cuad(numeros, q):\n",
    "    for n in numeros:\n",
    "        q.put(n * n)\n",
    "\n",
    "if __name__ == \"__main__\":\n",
    "    nums = range(10)\n",
    "    q = multiprocessing.Queue()\n",
    "    p = multiprocessing.Process(target=calc_cuad, args=(nums, q))\n",
    "    p.start()\n",
    "    p.join()\n",
    "    while q.empty() is False:\n",
    "        print(q.get())"
   ]
  },
  {
   "cell_type": "code",
   "execution_count": null,
   "metadata": {},
   "outputs": [],
   "source": []
  },
  {
   "cell_type": "code",
   "execution_count": null,
   "metadata": {},
   "outputs": [],
   "source": []
  },
  {
   "cell_type": "code",
   "execution_count": null,
   "metadata": {},
   "outputs": [],
   "source": []
  },
  {
   "cell_type": "code",
   "execution_count": null,
   "metadata": {},
   "outputs": [],
   "source": []
  }
 ]
}