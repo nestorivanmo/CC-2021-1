{
 "cells": [
  {
   "cell_type": "code",
   "execution_count": 56,
   "metadata": {},
   "outputs": [
    {
     "name": "stdout",
     "output_type": "stream",
     "text": [
      "PRODUCTOR: He producido e insertado el item:  44\n",
      "CONSUMIDOR: He consumido y procesado el item:  44\n",
      "PRODUCTOR: He producido e insertado el item:  9\n",
      "CONSUMIDOR: He consumido y procesado el item:  9\n",
      "PRODUCTOR: He producido e insertado el item:  4\n",
      "CONSUMIDOR: He consumido y procesado el item:  4\n",
      "PRODUCTOR: He producido e insertado el item:  91\n",
      "CONSUMIDOR: He consumido y procesado el item:  91\n",
      "PRODUCTOR: He producido e insertado el item:  68\n",
      "CONSUMIDOR: He consumido y procesado el item:  68\n",
      "PRODUCTOR: He producido e insertado el item:  57\n",
      "CONSUMIDOR: He consumido y procesado el item:  57\n",
      "PRODUCTOR: He producido e insertado el item:  56\n",
      "CONSUMIDOR: He consumido y procesado el item:  56\n",
      "PRODUCTOR: He producido e insertado el item:  11\n",
      "CONSUMIDOR: He consumido y procesado el item:  11\n",
      "PRODUCTOR: He producido e insertado el item:  97\n",
      "CONSUMIDOR: He consumido y procesado el item:  97\n",
      "PRODUCTOR: He producido e insertado el item:  89\n",
      "CONSUMIDOR: He consumido y procesado el item:  89\n",
      "La suma de los items es: 526\n"
     ]
    }
   ],
   "source": [
    "import time\n",
    "import multiprocessing\n",
    "import numpy as np\n",
    "\n",
    "def Productor(buffer, espacio_disponible, espacio_ocupado):\n",
    "    for i in range(10):\n",
    "        time.sleep(1)\n",
    "        item = np.random.randint(1, 100)\n",
    "        espacio_disponible.acquire()\n",
    "        buffer.put(item)\n",
    "        print('PRODUCTOR: He producido e insertado el item: ', item)\n",
    "        espacio_ocupado.release()\n",
    "        \n",
    "def Consumidor(buffer, espacio_disponible, espacio_ocupado):\n",
    "    suma = 0\n",
    "    for i in range(10):\n",
    "        time.sleep(1)\n",
    "        espacio_ocupado.acquire()\n",
    "        item = buffer.get()\n",
    "        espacio_disponible.release()\n",
    "        suma += item\n",
    "        print('CONSUMIDOR: He consumido y procesado el item: ', item)\n",
    "    print('La suma de los items es:', suma)\n",
    "        \n",
    "if __name__ == '__main__':\n",
    "    espacio_disponible = multiprocessing.Semaphore(5)\n",
    "    espacio_ocupado = multiprocessing.Semaphore(0)\n",
    "    buffer = multiprocessing.Queue()\n",
    "    p1 = multiprocessing.Process(target=Productor, args=(buffer, espacio_disponible, espacio_ocupado))\n",
    "    p2 = multiprocessing.Process(target=Consumidor, args=(buffer, espacio_disponible, espacio_ocupado))\n",
    "    p1.start()\n",
    "    p2.start()"
   ]
  }
 ],
 "metadata": {
  "kernelspec": {
   "display_name": "Python 3",
   "language": "python",
   "name": "python3"
  },
  "language_info": {
   "codemirror_mode": {
    "name": "ipython",
    "version": 3
   },
   "file_extension": ".py",
   "mimetype": "text/x-python",
   "name": "python",
   "nbconvert_exporter": "python",
   "pygments_lexer": "ipython3",
   "version": "3.8.3"
  }
 },
 "nbformat": 4,
 "nbformat_minor": 4
}
