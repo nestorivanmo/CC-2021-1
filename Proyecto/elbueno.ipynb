{
 "metadata": {
  "language_info": {
   "codemirror_mode": {
    "name": "ipython",
    "version": 3
   },
   "file_extension": ".py",
   "mimetype": "text/x-python",
   "name": "python",
   "nbconvert_exporter": "python",
   "pygments_lexer": "ipython3",
   "version": "3.8.5-final"
  },
  "orig_nbformat": 2,
  "kernelspec": {
   "name": "python3",
   "display_name": "Python 3",
   "language": "python"
  }
 },
 "nbformat": 4,
 "nbformat_minor": 2,
 "cells": [
  {
   "source": [
    "## Pasos a seguir\n",
    "\n",
    "```\n",
    "Población inicial\n",
    "Fitness de la población\n",
    "Si existe solución:\n",
    "    muestra solución\n",
    "    termina\n",
    "while True\n",
    "    \n",
    "\n",
    "```\n",
    "\n",
    "0. ¿Sobre quienes hacer el Crossover?\n",
    "1. Crossover generá dos nuevos hijos\n",
    "    - Utilizar la función de HB\n",
    "    - Pensar en otra\n",
    "2. Inmediatamente hacer la mutación sobre hijos redundantes\n",
    "    - Sustituir cromosomas repetidos con los faltantes dentro de (0,...,N-1)\n",
    "3. Paso 2 genera el doble de la población por lo que hay que aplicar el fitness function de nuevo\n"
   ],
   "cell_type": "markdown",
   "metadata": {}
  },
  {
   "cell_type": "code",
   "execution_count": 63,
   "metadata": {},
   "outputs": [],
   "source": [
    "import numpy as np\n",
    "import random\n",
    "import copy"
   ]
  },
  {
   "cell_type": "code",
   "execution_count": 64,
   "metadata": {},
   "outputs": [],
   "source": [
    "def initialize_population(num_queens, population_size):\n",
    "  population = []\n",
    "  for i in range(population_size):\n",
    "    individual = np.arange(num_queens, dtype=int)\n",
    "    np.random.shuffle(individual)\n",
    "    population.append(individual)\n",
    "  return np.array(population, dtype=int)"
   ]
  },
  {
   "cell_type": "code",
   "execution_count": 65,
   "metadata": {},
   "outputs": [],
   "source": [
    "def is_solution(individual):\n",
    "    if fitness(individual) == 0:\n",
    "        return True\n",
    "    return False"
   ]
  },
  {
   "cell_type": "code",
   "execution_count": 66,
   "metadata": {},
   "outputs": [],
   "source": [
    "def sort_by_fitness(population, verbose=False):\n",
    "    fitness_values = [\n",
    "        (fitness(individual), idx) for idx, individual in enumerate(population)\n",
    "    ]\n",
    "    fitness_values.sort()\n",
    "    individuals_by_fitness = [\n",
    "        population[fit_val[1]] for fit_val in fitness_values\n",
    "    ]\n",
    "    individuals_by_fitness = np.array(individuals_by_fitness)\n",
    "    if verbose:\n",
    "        print(f\"sort_by_fitness(): \\n\\t FV:\\n\\t{fitness_values} \\n\\t IBF:\\n{individuals_by_fitness}\", end=\"\\n\\n\")\n",
    "    return individuals_by_fitness"
   ]
  },
  {
   "cell_type": "code",
   "execution_count": 67,
   "metadata": {},
   "outputs": [],
   "source": [
    "def fitness(individual):\n",
    "    n = len(individual)\n",
    "    l_diag = [0] * (2*n - 1)\n",
    "    r_diag = [0] * (2*n - 1)\n",
    "    for i in range(n):\n",
    "        l_diag[i + individual[i]] += 1\n",
    "        r_diag[n - i + individual[i] - 1] += 1\n",
    "    suma = 0\n",
    "    for i in range(2 * n - 1):\n",
    "        contador = 0\n",
    "        if l_diag[i] > 1:\n",
    "            contador += l_diag[i] - 1\n",
    "        if r_diag[i] > 1:\n",
    "            contador += r_diag[i] - 1\n",
    "        suma += contador / (n - abs(i + 1 - n))\n",
    "    return suma"
   ]
  },
  {
   "cell_type": "code",
   "execution_count": 68,
   "metadata": {},
   "outputs": [],
   "source": [
    "def crossover(sorted_population):\n",
    "    pop_size = sorted_population.shape[0]\n",
    "    crossed_generation = sorted_population\n",
    "    for i in range(1, pop_size, 2):\n",
    "        first_parent = sorted_population[i-1]\n",
    "        second_parent = sorted_population[i]\n",
    "        offspring = cross(first_parent, second_parent)\n",
    "        for individual in offspring:\n",
    "            crossed_generation = np.vstack([crossed_generation, individual])\n",
    "    if pop_size % 2 != 0:\n",
    "        crossed_generation = np.vstack([crossed_generation, sorted_population[-1]])\n",
    "    return crossed_generation\n",
    "\n",
    "\n",
    "def cross(first_parent, second_parent):\n",
    "    first_parent_size = first_parent.shape[0]\n",
    "    second_parent_size = second_parent.shape[0]\n",
    "    if first_parent_size != second_parent_size:\n",
    "        raise Exception(f\"Both parents should have the same chromosomes ({first_parent_size}) vs ({second_parent_size})\")\n",
    "    first_child = first_parent.copy()\n",
    "    second_child = second_parent.copy()\n",
    "    replace_weakest_chromosomes(first_child, second_child)\n",
    "    return (first_child, second_child)\n",
    "\n",
    "\n",
    "def replace_weakest_chromosomes(base_child, other_child):\n",
    "    for i in range(1, base_child.shape[0]):\n",
    "        if abs(base_child[i-1] - base_child[i]) < 2:\n",
    "            base_child[i], other_child[i] = other_child[i], base_child[i]"
   ]
  },
  {
   "cell_type": "code",
   "execution_count": 69,
   "metadata": {},
   "outputs": [],
   "source": [
    "def mutation(redundant_generation):\n",
    "    clean_generation = []\n",
    "    for individual in redundant_generation:\n",
    "        if is_redundant(individual):\n",
    "            remove_redundancy(individual)\n",
    "        clean_generation.append(individual)\n",
    "    return np.array(clean_generation)\n",
    "\n",
    "def is_redundant(individual):\n",
    "    unique = np.unique(individual)\n",
    "    return unique.shape[0] != individual.shape[0]\n",
    "\n",
    "def remove_redundancy(individual):\n",
    "    chromosomes_count = np.zeros(individual.shape[0])\n",
    "    for chromosome in individual:\n",
    "        chromosomes_count[chromosome] += 1\n",
    "    missing_chromosomes = []\n",
    "    for chromosome, chromosome_count in enumerate(chromosomes_count):\n",
    "        if chromosome_count == 0:\n",
    "            missing_chromosomes.append(chromosome)\n",
    "    for chromosome, count in enumerate(chromosomes_count):\n",
    "        if count > 1:\n",
    "            idx = individual.tolist().index(chromosome)\n",
    "            individual[idx] = missing_chromosomes.pop()"
   ]
  },
  {
   "cell_type": "code",
   "execution_count": 70,
   "metadata": {},
   "outputs": [],
   "source": [
    "def find_next_generation(sorted_population):\n",
    "    redundant_generation = crossover(sorted_population)\n",
    "    next_generation = mutation(redundant_generation)\n",
    "    sorted_next_generation = sort_by_fitness(next_generation)\n",
    "    return sorted_next_generation[:sorted_population.shape[0]]"
   ]
  },
  {
   "cell_type": "code",
   "execution_count": 71,
   "metadata": {},
   "outputs": [],
   "source": [
    "def genetic_algorithm(initial_population, n_iter=10):\n",
    "    current_population = initial_population.copy()\n",
    "    while n_iter > 0:\n",
    "        sorted_population = sort_by_fitness(current_population)\n",
    "        fittest = sorted_population[0]\n",
    "        if is_solution(fittest):\n",
    "            return fittest\n",
    "        current_population = find_next_generation(sorted_population.copy())\n",
    "        print(n_iter+1 - 10, '\\n', current_population, '\\n\\n\\t', fittest, end=\"\\n\\n\")\n",
    "        n_iter -= 1"
   ]
  },
  {
   "cell_type": "code",
   "execution_count": 74,
   "metadata": {},
   "outputs": [
    {
     "output_type": "stream",
     "name": "stdout",
     "text": [
      "[[2 3 0 1]\n [2 1 0 3]\n [0 1 3 2]\n [2 3 1 0]]\n\n1 \n [[0 1 3 2]\n [2 3 1 0]\n [2 3 1 0]\n [0 1 3 2]] \n\n\t [0 1 3 2]\n\n0 \n [[2 1 3 0]\n [0 3 1 2]\n [0 1 3 2]\n [2 3 1 0]] \n\n\t [0 1 3 2]\n\n-1 \n [[2 1 3 0]\n [0 3 1 2]\n [0 3 1 2]\n [2 1 3 0]] \n\n\t [2 1 3 0]\n\n-2 \n [[2 1 3 0]\n [0 3 1 2]\n [0 3 1 2]\n [2 1 3 0]] \n\n\t [2 1 3 0]\n\n-3 \n [[2 1 3 0]\n [0 3 1 2]\n [0 3 1 2]\n [2 1 3 0]] \n\n\t [2 1 3 0]\n\n-4 \n [[2 1 3 0]\n [0 3 1 2]\n [0 3 1 2]\n [2 1 3 0]] \n\n\t [2 1 3 0]\n\n-5 \n [[2 1 3 0]\n [0 3 1 2]\n [0 3 1 2]\n [2 1 3 0]] \n\n\t [2 1 3 0]\n\n-6 \n [[2 1 3 0]\n [0 3 1 2]\n [0 3 1 2]\n [2 1 3 0]] \n\n\t [2 1 3 0]\n\n-7 \n [[2 1 3 0]\n [0 3 1 2]\n [0 3 1 2]\n [2 1 3 0]] \n\n\t [2 1 3 0]\n\n-8 \n [[2 1 3 0]\n [0 3 1 2]\n [0 3 1 2]\n [2 1 3 0]] \n\n\t [2 1 3 0]\n\n"
     ]
    }
   ],
   "source": [
    "current_population = initialize_population(num_queens=4, population_size=4)\n",
    "print(current_population, end=\"\\n\\n\")\n",
    "genetic_algorithm(current_population)"
   ]
  },
  {
   "cell_type": "code",
   "execution_count": 73,
   "metadata": {},
   "outputs": [
    {
     "output_type": "execute_result",
     "data": {
      "text/plain": [
       "array([[2, 1, 3, 0],\n",
       "       [0, 2, 3, 1],\n",
       "       [0, 2, 3, 1],\n",
       "       [0, 2, 1, 3]])"
      ]
     },
     "metadata": {},
     "execution_count": 73
    }
   ],
   "source": [
    "curr = np.array(\n",
    "     [\n",
    "        [2, 1, 3, 0],\n",
    "        [0, 2, 3, 1],\n",
    "        [0, 2, 1, 3],\n",
    "        [3, 2, 1, 0]\n",
    "    ] \n",
    ")\n",
    "find_next_generation(curr)"
   ]
  },
  {
   "cell_type": "code",
   "execution_count": null,
   "metadata": {},
   "outputs": [],
   "source": []
  }
 ]
}