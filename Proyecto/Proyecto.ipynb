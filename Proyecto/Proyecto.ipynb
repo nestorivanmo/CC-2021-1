{
  "nbformat": 4,
  "nbformat_minor": 0,
  "metadata": {
    "colab": {
      "name": "Proyecto.ipynb",
      "provenance": [],
      "collapsed_sections": []
    },
    "kernelspec": {
      "name": "python3",
      "display_name": "Python 3",
      "language": "python"
    }
  },
  "cells": [
    {
      "source": [
        "# N-queen problem with genetic algorithms"
      ],
      "cell_type": "markdown",
      "metadata": {}
    },
    {
      "cell_type": "code",
      "metadata": {
        "id": "-hVKVp0L6b8U"
      },
      "source": [
        "import numpy as np\n",
        "import random"
      ],
      "execution_count": 1,
      "outputs": []
    },
    {
      "source": [
        "## Fitness function"
      ],
      "cell_type": "markdown",
      "metadata": {}
    },
    {
      "cell_type": "code",
      "execution_count": 45,
      "metadata": {},
      "outputs": [],
      "source": [
        "def fitness_function(n, individual):\n",
        "    l_diag = [0] * (2*n - 1)\n",
        "    r_diag = [0] * (2*n - 1)\n",
        "    for i in range(n):\n",
        "        l_diag[i + individual[i]] += 1\n",
        "        r_diag[n - i + individual[i] - 1] += 1\n",
        "    suma = 0\n",
        "    for i in range(2 * n - 1):\n",
        "        contador = 0\n",
        "        if l_diag[i] > 1:\n",
        "            contador += l_diag[i] - 1\n",
        "        if r_diag[i] > 1:\n",
        "            contador += r_diag[i] - 1\n",
        "        suma += contador / (n - abs(i + 1 - n))\n",
        "    return suma"
      ]
    },
    {
      "cell_type": "code",
      "execution_count": 200,
      "metadata": {},
      "outputs": [],
      "source": [
        "def fitness_function2(n, individual):\n",
        "    max_pairs = n*(n-1)\n",
        "    da = diagonal_attacks(individual)\n",
        "    ha = horizontal_attacks(individual)\n",
        "    return max_pairs - (da + ha)\n",
        "\n",
        "def diagonal_attacks(individual):\n",
        "    n = len(individual)\n",
        "    l_diag = np.zeros(2*n-1)\n",
        "    r_diag = np.zeros(2*n-1)\n",
        "    for i in range(n):\n",
        "        l_diag[i + individual[i]] += 1\n",
        "        r_diag[n - i + individual[i] - 1] += 1\n",
        "    filter_(l_diag)\n",
        "    filter_(r_diag)\n",
        "    C = []\n",
        "    for i in range(2 * n - 1):\n",
        "        contador = 0\n",
        "        if l_diag[i] > 1:\n",
        "            contador += l_diag[i] - 1\n",
        "        if r_diag[i] > 1:\n",
        "            contador += r_diag[i] - 1\n",
        "        C.append(contador)\n",
        "    L = np.dot(l_diag, np.array(C))\n",
        "    R = np.dot(r_diag, np.array(C))\n",
        "    return L + R \n",
        "\n",
        "def horizontal_attacks(individual):\n",
        "    repeated_chromosomes = np.zeros(len(individual))\n",
        "    for chromosome in individual:\n",
        "        repeated_chromosomes[chromosome] += 1\n",
        "    sum_ = 0\n",
        "    for c in repeated_chromosomes:\n",
        "        if c >= 2:\n",
        "            sum_ += c*(c-1)\n",
        "    return sum_\n",
        "\n",
        "\n",
        "def filter_(diag):\n",
        "    for idx, d in enumerate(diag):\n",
        "        if d < 2:\n",
        "            diag[idx] = 0"
      ]
    },
    {
      "cell_type": "code",
      "execution_count": null,
      "metadata": {},
      "outputs": [],
      "source": [
        "fitness_function2(len(A), A)"
      ]
    },
    {
      "source": [
        "## Reproduction / Crossover"
      ],
      "cell_type": "markdown",
      "metadata": {}
    },
    {
      "cell_type": "code",
      "execution_count": 3,
      "metadata": {},
      "outputs": [],
      "source": [
        "def reproduccion(x, y):\n",
        "    hijo = np.array([-1]*len(x), dtype = np.int)\n",
        "    posiciones_libres = []\n",
        "    for i in range(len(x)):\n",
        "        if x[i] == y[i]:\n",
        "            hijo[i] = x[i]\n",
        "        else:\n",
        "          posiciones_libres.append(x[i])\n",
        "    np.random.shuffle(posiciones_libres) #Ordenamos de manera aleatoria las posiciones restantes\n",
        "    idx = 0\n",
        "    for i in range(len(hijo)):\n",
        "        if hijo[i] == -1: # Aquellas posiciones libres del hijo\n",
        "            hijo[i] = posiciones_libres[idx]\n",
        "            idx += 1\n",
        "    return hijo\n",
        "\n",
        "def crossover(x, y, idx=None):\n",
        "  if idx is None:\n",
        "    idx = np.random.randint(0, len(x)-1)\n",
        "  new_x = np.concatenate([x[:idx+1],y[idx + 1:]])\n",
        "  new_y = np.concatenate([y[:idx+1],x[idx + 1:]])\n",
        "  return new_x.tolist(), new_y.tolist()"
      ]
    },
    {
      "source": [
        "## Mutation"
      ],
      "cell_type": "markdown",
      "metadata": {}
    },
    {
      "cell_type": "code",
      "metadata": {
        "id": "h4APpYBkVkdf",
        "colab": {
          "base_uri": "https://localhost:8080/"
        },
        "outputId": "154e165e-b293-472c-8440-4879f62df628"
      },
      "source": [
        "def mutacion(x):\n",
        "    i = np.random.randint(0, len(x))\n",
        "    j = np.random.randint(0, len(x))\n",
        "    while i == j:\n",
        "      j = np.random.randint(0, len(x))\n",
        "    a = x[i]\n",
        "    b = x[j]\n",
        "    x[i] = b\n",
        "    x[j] = a\n",
        "    return x\n",
        "\n",
        "def mutacion2(x):\n",
        "  y = np.random.choice(range(len(x)), len(x), replace=False)\n",
        "  return y"
      ],
      "execution_count": 4,
      "outputs": []
    },
    {
      "source": [
        "## Selection"
      ],
      "cell_type": "markdown",
      "metadata": {}
    },
    {
      "cell_type": "code",
      "metadata": {
        "id": "2uEC5bhF3rfn"
      },
      "source": [
        "def seleccion(poblacion, tamano_tablero, crossover=False):\n",
        "  mitad = poblacion.shape[0]//2\n",
        "  elegidos = np.zeros(shape = (mitad, tamano_tablero), dtype=np.int)\n",
        "  fitness = [(fitness_function(tamano_tablero, poblacion[i]), i) for i in range(poblacion.shape[0])]\n",
        "  fitness.sort()\n",
        "  indices_padres = [i[1] for i in fitness[:mitad]]\n",
        "  padres = []\n",
        "  for indice in indices_padres:\n",
        "    padres.append(poblacion[indice])\n",
        "  if fitness[0][0] == 0:\n",
        "    return poblacion[fitness[0][1]]\n",
        "  return genera_nueva_generacion(poblacion, padres, fitness, crossover)\n",
        "\n",
        "def genera_nueva_generacion(poblacion, padres, fitness, crossover=False):\n",
        "  if crossover:\n",
        "    return new_population_crossover(poblacion, fitness)\n",
        "  return new_population_reproduction(poblacion, padres, fitness)  \n",
        "\n",
        "def new_population_crossover(poblacion, fitness):\n",
        "  idxs = [i[1] for i in fitness]\n",
        "  poblacion_ordenada = [poblacion[idx] for idx in idxs]\n",
        "  nueva_generacion = []\n",
        "  for i in range(1, len(poblacion), 2):\n",
        "    a, b = crossover(poblacion_ordenada[i-1], poblacion_ordenada[i])\n",
        "    nueva_generacion.append(a)\n",
        "    nueva_generacion.append(b)\n",
        "  if len(poblacion) % 2 != 0:\n",
        "    nueva_generacion.append(poblacion_ordenada[-1])\n",
        "  return np.array(nueva_generacion)\n",
        "\n",
        "def new_population_reproduction(poblacion, padres, fitness):\n",
        "  nueva_generacion = padres\n",
        "  for i in range(len(padres)):\n",
        "    hijo = reproduccion(padres[i], padres[(i + 1)%len(padres)])\n",
        "    u = np.random.choice(2, 1, p = [0.3, 0.7])[0]\n",
        "    if u == 0:\n",
        "      hijo = mutacion2(hijo)\n",
        "    nueva_generacion.append(hijo)\n",
        "  if len(poblacion)%2 != 0:\n",
        "    mitad = len(poblacion) // 2\n",
        "    idx = fitness[mitad][1] \n",
        "    nueva_generacion.append(poblacion[idx])\n",
        "  return np.array(nueva_generacion)"
      ],
      "execution_count": 5,
      "outputs": []
    },
    {
      "source": [
        "## Initial population"
      ],
      "cell_type": "markdown",
      "metadata": {
        "id": "NBAGpXdr5rZE"
      }
    },
    {
      "cell_type": "code",
      "execution_count": 12,
      "metadata": {},
      "outputs": [],
      "source": [
        "def poblacion_inicial_aleatoria(num_queens, population_size):\n",
        "  poblacion = np.zeros(shape = (population_size, num_queens), dtype=np.int)\n",
        "  for i in range(population_size):\n",
        "    posiciones = np.arange(num_queens, dtype = np.int)\n",
        "    np.random.shuffle(posiciones)\n",
        "    poblacion[i] = posiciones\n",
        "  return poblacion"
      ]
    },
    {
      "source": [
        "## Master"
      ],
      "cell_type": "markdown",
      "metadata": {
        "colab": {
          "base_uri": "https://localhost:8080/"
        },
        "id": "vq84exhVCSuS",
        "outputId": "9badc3af-1467-44cd-cf85-a4af22c6b795"
      }
    },
    {
      "cell_type": "code",
      "execution_count": 14,
      "metadata": {},
      "outputs": [],
      "source": [
        "def genetic_algorithm(num_queens, population_size, crossover=False):\n",
        "  poblacion = poblacion_inicial_aleatoria(num_queens, population_size)\n",
        "  contador = 0\n",
        "  while True:\n",
        "    contador += 1\n",
        "    elegidos = seleccion(poblacion, num_queens, crossover)\n",
        "    if elegidos.shape[0] != population_size:\n",
        "      return elegidos, contador\n",
        "    else:\n",
        "      poblacion = elegidos"
      ]
    },
    {
      "cell_type": "code",
      "execution_count": 28,
      "metadata": {},
      "outputs": [],
      "source": [
        "from time import time \n",
        "times = []\n",
        "iterations = []\n",
        "for i in range(10):\n",
        "    a = time()\n",
        "    solution, it = genetic_algorithm(15, 10, crossover=True)\n",
        "    b = time()\n",
        "    times.append(b-a)\n",
        "    iterations.append(it)"
      ]
    },
    {
      "cell_type": "code",
      "execution_count": 33,
      "metadata": {},
      "outputs": [
        {
          "output_type": "execute_result",
          "data": {
            "text/plain": [
              "5833.5"
            ]
          },
          "metadata": {},
          "execution_count": 33
        }
      ],
      "source": [
        "np.array(iterations).mean()"
      ]
    },
    {
      "cell_type": "code",
      "execution_count": 34,
      "metadata": {},
      "outputs": [
        {
          "output_type": "execute_result",
          "data": {
            "text/plain": [
              "2.3627087831497193"
            ]
          },
          "metadata": {},
          "execution_count": 34
        }
      ],
      "source": [
        "np.array(times).mean()"
      ]
    },
    {
      "cell_type": "code",
      "execution_count": 38,
      "metadata": {},
      "outputs": [
        {
          "output_type": "execute_result",
          "data": {
            "text/plain": [
              "array([0.26, 1.69, 6.25, 1.52, 4.21, 0.54, 2.09, 4.27, 2.05, 0.77])"
            ]
          },
          "metadata": {},
          "execution_count": 38
        }
      ],
      "source": [
        "np.array(times).round(2)"
      ]
    },
    {
      "cell_type": "code",
      "execution_count": 40,
      "metadata": {},
      "outputs": [
        {
          "output_type": "execute_result",
          "data": {
            "text/plain": [
              "0.0"
            ]
          },
          "metadata": {},
          "execution_count": 40
        }
      ],
      "source": [
        "A = [ 0 ,13 , 7 , 1, 11 , 7 , 0, 13,  0, 13,  1,  8, 11 ,3,3]\n",
        "fitness_function(len(A), A)"
      ]
    },
    {
      "cell_type": "code",
      "execution_count": null,
      "metadata": {},
      "outputs": [],
      "source": []
    }
  ]
}