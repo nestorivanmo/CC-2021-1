{
 "cells": [
  {
   "cell_type": "markdown",
   "metadata": {
    "id": "b88gxWUMNWrZ"
   },
   "source": [
    "# N-queen problem with genetic algorithms"
   ]
  },
  {
   "cell_type": "code",
   "execution_count": 1,
   "metadata": {
    "id": "-hVKVp0L6b8U"
   },
   "outputs": [],
   "source": [
    "import numpy as np\n",
    "import random\n",
    "import multiprocessing as mp"
   ]
  },
  {
   "cell_type": "markdown",
   "metadata": {
    "id": "lJOR2g6ENWrg"
   },
   "source": [
    "## Fitness function"
   ]
  },
  {
   "cell_type": "code",
   "execution_count": 2,
   "metadata": {
    "id": "3ciCOsvtNWrl"
   },
   "outputs": [],
   "source": [
    "def fitness_function(n, individual):\n",
    "    l_diag = [0] * (2*n - 1)\n",
    "    r_diag = [0] * (2*n - 1)\n",
    "    for i in range(n):\n",
    "        l_diag[i + individual[i]] += 1\n",
    "        r_diag[n - i + individual[i] - 1] += 1\n",
    "    suma = 0\n",
    "    for i in range(2 * n - 1):\n",
    "        contador = 0\n",
    "        if l_diag[i] > 1:\n",
    "            contador += l_diag[i] - 1\n",
    "        if r_diag[i] > 1:\n",
    "            contador += r_diag[i] - 1\n",
    "        suma += contador / (n - abs(i + 1 - n))\n",
    "    return suma"
   ]
  },
  {
   "cell_type": "code",
   "execution_count": 3,
   "metadata": {
    "id": "qyepT4BLNWrm"
   },
   "outputs": [],
   "source": [
    "def fitness_function2(n, individual):\n",
    "    max_pairs = n*(n-1)\n",
    "    da = diagonal_attacks(individual)\n",
    "    ha = horizontal_attacks(individual)\n",
    "    return max_pairs - (da + ha)\n",
    "\n",
    "def diagonal_attacks(individual):\n",
    "    n = len(individual)\n",
    "    l_diag = np.zeros(2*n-1)\n",
    "    r_diag = np.zeros(2*n-1)\n",
    "    for i in range(n):\n",
    "        l_diag[i + individual[i]] += 1\n",
    "        r_diag[n - i + individual[i] - 1] += 1\n",
    "    filter_(l_diag)\n",
    "    filter_(r_diag)\n",
    "    C = []\n",
    "    for i in range(2 * n - 1):\n",
    "        contador = 0\n",
    "        if l_diag[i] > 1:\n",
    "            contador += l_diag[i] - 1\n",
    "        if r_diag[i] > 1:\n",
    "            contador += r_diag[i] - 1\n",
    "        C.append(contador)\n",
    "    L = np.dot(l_diag, np.array(C))\n",
    "    R = np.dot(r_diag, np.array(C))\n",
    "    return L + R \n",
    "\n",
    "def horizontal_attacks(individual):\n",
    "    repeated_chromosomes = np.zeros(len(individual))\n",
    "    for chromosome in individual:\n",
    "        repeated_chromosomes[chromosome] += 1\n",
    "    sum_ = 0\n",
    "    for c in repeated_chromosomes:\n",
    "        if c >= 2:\n",
    "            sum_ += c*(c-1)\n",
    "    return sum_\n",
    "\n",
    "\n",
    "def filter_(diag):\n",
    "    for idx, d in enumerate(diag):\n",
    "        if d < 2:\n",
    "            diag[idx] = 0"
   ]
  },
  {
   "cell_type": "markdown",
   "metadata": {
    "id": "uM9OLznpNWrn"
   },
   "source": [
    "## Reproduction / Crossover"
   ]
  },
  {
   "cell_type": "code",
   "execution_count": 4,
   "metadata": {
    "id": "2UqW5iAHNWro"
   },
   "outputs": [],
   "source": [
    "def reproduccion(x, y):\n",
    "    hijo = np.array([-1]*len(x), dtype = int)\n",
    "    posiciones_libres = []\n",
    "    for i in range(len(x)):\n",
    "        if x[i] == y[i]:\n",
    "            hijo[i] = x[i]\n",
    "        else:\n",
    "          posiciones_libres.append(x[i])\n",
    "    np.random.shuffle(posiciones_libres) #Ordenamos de manera aleatoria las posiciones restantes\n",
    "    idx = 0\n",
    "    for i in range(len(hijo)):\n",
    "        if hijo[i] == -1: # Aquellas posiciones libres del hijo\n",
    "            hijo[i] = posiciones_libres[idx]\n",
    "            idx += 1\n",
    "    return hijo\n",
    "\n",
    "def crossover(x, y, idx=None):\n",
    "  if idx is None:\n",
    "    idx = np.random.randint(0, len(x)-1)\n",
    "  new_x = np.concatenate([x[:idx+1],y[idx + 1:]])\n",
    "  new_y = np.concatenate([y[:idx+1],x[idx + 1:]])\n",
    "  return new_x.tolist(), new_y.tolist()"
   ]
  },
  {
   "cell_type": "markdown",
   "metadata": {
    "id": "daougaoqNWro"
   },
   "source": [
    "## Mutation"
   ]
  },
  {
   "cell_type": "code",
   "execution_count": 5,
   "metadata": {
    "id": "h4APpYBkVkdf"
   },
   "outputs": [],
   "source": [
    "def mutacion(x):\n",
    "    i = np.random.randint(0, len(x))\n",
    "    j = np.random.randint(0, len(x))\n",
    "    while i == j:\n",
    "      j = np.random.randint(0, len(x))\n",
    "    a = x[i]\n",
    "    b = x[j]\n",
    "    x[i] = b\n",
    "    x[j] = a\n",
    "    return x\n",
    "\n",
    "def mutacion2(x):\n",
    "  y = np.random.choice(range(len(x)), len(x), replace=False)\n",
    "  return y"
   ]
  },
  {
   "cell_type": "markdown",
   "metadata": {
    "id": "j7oukAWENWrq"
   },
   "source": [
    "## Selection"
   ]
  },
  {
   "cell_type": "code",
   "execution_count": 6,
   "metadata": {
    "id": "2uEC5bhF3rfn"
   },
   "outputs": [],
   "source": [
    "def seleccion(poblacion, tamano_tablero, crossover=False):\n",
    "  mitad = poblacion.shape[0]//2\n",
    "  elegidos = np.zeros(shape = (mitad, tamano_tablero), dtype=int)\n",
    "  fitness = [(fitness_function2(tamano_tablero, poblacion[i]), i) for i in \n",
    "             range(poblacion.shape[0])]\n",
    "  fitness.sort()\n",
    "  fitness = fitness[::-1]\n",
    "  indices_padres = [i[1] for i in fitness[:mitad]]\n",
    "  padres = []\n",
    "  for indice in indices_padres:\n",
    "    padres.append(poblacion[indice])\n",
    "  if fitness[0][0] == tamano_tablero * (tamano_tablero - 1):\n",
    "    return poblacion[fitness[0][1]]\n",
    "  return genera_nueva_generacion(poblacion, padres, fitness, crossover)\n",
    "\n",
    "def genera_nueva_generacion(poblacion, padres, fitness, crossover=False):\n",
    "  if crossover:\n",
    "    return new_population_crossover(poblacion, fitness)\n",
    "  return new_population_reproduction(poblacion, padres, fitness)  \n",
    "\n",
    "def new_population_crossover(poblacion, fitness):\n",
    "  idxs = [i[1] for i in fitness]\n",
    "  poblacion_ordenada = [poblacion[idx] for idx in idxs]\n",
    "  nueva_generacion = []\n",
    "  for i in range(1, len(poblacion), 2):\n",
    "    a, b = crossover(poblacion_ordenada[i-1], poblacion_ordenada[i])\n",
    "    nueva_generacion.append(a)\n",
    "    nueva_generacion.append(b)\n",
    "  if len(poblacion) % 2 != 0:\n",
    "    nueva_generacion.append(poblacion_ordenada[-1])\n",
    "  return np.array(nueva_generacion)\n",
    "\n",
    "def new_population_reproduction(poblacion, padres, fitness):\n",
    "  nueva_generacion = padres\n",
    "  for i in range(len(padres)):\n",
    "    hijo = reproduccion(padres[i], padres[(i + 1)%len(padres)])\n",
    "    u = np.random.choice(2, 1, p = [0.3, 0.7])[0]\n",
    "    if u == 0:\n",
    "      hijo = mutacion2(hijo)\n",
    "    nueva_generacion.append(hijo)\n",
    "  if len(poblacion)%2 != 0:\n",
    "    mitad = len(poblacion) // 2\n",
    "    idx = fitness[mitad][1] \n",
    "    nueva_generacion.append(poblacion[idx])\n",
    "  return np.array(nueva_generacion)"
   ]
  },
  {
   "cell_type": "markdown",
   "metadata": {
    "id": "NBAGpXdr5rZE"
   },
   "source": [
    "## Initial population"
   ]
  },
  {
   "cell_type": "code",
   "execution_count": 7,
   "metadata": {
    "id": "dPVhK8a0NWrt"
   },
   "outputs": [],
   "source": [
    "def poblacion_inicial_aleatoria(num_queens, population_size):\n",
    "  poblacion = np.zeros(shape = (population_size, num_queens), dtype=int)\n",
    "  for i in range(population_size):\n",
    "    posiciones = np.arange(num_queens, dtype=int)\n",
    "    np.random.shuffle(posiciones)\n",
    "    poblacion[i] = posiciones\n",
    "  return poblacion"
   ]
  },
  {
   "cell_type": "markdown",
   "metadata": {
    "id": "vq84exhVCSuS",
    "outputId": "9badc3af-1467-44cd-cf85-a4af22c6b795"
   },
   "source": [
    "## Master"
   ]
  },
  {
   "cell_type": "code",
   "execution_count": 8,
   "metadata": {
    "id": "sirkbAASNWrt"
   },
   "outputs": [],
   "source": [
    "def genetic_algorithm(num_queens, population_size, crossover=False):\n",
    "  poblacion = poblacion_inicial_aleatoria(num_queens, population_size)\n",
    "  contador = 0\n",
    "  while True:\n",
    "    contador += 1\n",
    "    elegidos = seleccion(poblacion, num_queens, crossover)\n",
    "    if elegidos.shape[0] != population_size:\n",
    "      return elegidos, contador\n",
    "    else:\n",
    "      poblacion = elegidos"
   ]
  },
  {
   "cell_type": "markdown",
   "metadata": {
    "colab": {
     "base_uri": "https://localhost:8080/",
     "height": 358
    },
    "id": "JzZ3E7S0N8b7",
    "outputId": "436c415f-0278-4156-cc4d-2457332d5eb8"
   },
   "source": [
    "from time import time \n",
    "xover = [True, False]\n",
    "for x in xover:\n",
    "  times = []\n",
    "  iterations = []\n",
    "  for i in range(10):\n",
    "      a = time()\n",
    "      solution, it = genetic_algorithm(8, 100, crossover=x)\n",
    "      b = time()\n",
    "      times.append(b-a)\n",
    "      iterations.append(it)\n",
    "  print('Iteraciones: ', iterations, ' avg: ', np.mean(iterations), '\\nTimes: ', \n",
    "        times, 'avg: ', np.mean(times))"
   ]
  },
  {
   "cell_type": "markdown",
   "metadata": {},
   "source": [
    "# Multiprocessing"
   ]
  },
  {
   "cell_type": "code",
   "execution_count": 9,
   "metadata": {
    "id": "VRkKDKbBNWru"
   },
   "outputs": [],
   "source": [
    "def genetic_algorithm_mp(population, num_queens, crossover=False):\n",
    "    print('Iniciando proceso ', mp.current_process().pid)\n",
    "    contador = 0\n",
    "    while True:\n",
    "        contador += 1\n",
    "        elegidos = seleccion(population, num_queens, crossover)\n",
    "        if elegidos.shape[0] != len(population):\n",
    "            print('Elegidos: ', elegidos, 'Contador: ', contador)\n",
    "            break\n",
    "        population = elegidos\n",
    "\n",
    "\n",
    "def master(num_queens, population_size, num_processes=4):\n",
    "    pops, processes = [], []\n",
    "    for i in range(num_processes):\n",
    "        pops.append(poblacion_inicial_aleatoria(num_queens, population_size // num_processes))\n",
    "    for i in range(num_processes):\n",
    "        p = mp.Process(target=genetic_algorithm_mp, args=(pops[i], num_queens, ))\n",
    "        processes.append(p)\n",
    "        p.start()\n",
    "    for process in processes:\n",
    "        process.join()"
   ]
  },
  {
   "cell_type": "code",
   "execution_count": 12,
   "metadata": {
    "id": "S9YYpuYMNWr9"
   },
   "outputs": [],
   "source": [
    "if __name__ == '__main__':\n",
    "    master(15, 10)"
   ]
  },
  {
   "cell_type": "code",
   "execution_count": null,
   "metadata": {},
   "outputs": [],
   "source": []
  }
 ],
 "metadata": {
  "colab": {
   "collapsed_sections": [],
   "name": "Proyecto.ipynb",
   "provenance": []
  },
  "kernelspec": {
   "display_name": "Python 3",
   "language": "python",
   "name": "python3"
  },
  "language_info": {
   "codemirror_mode": {
    "name": "ipython",
    "version": 3
   },
   "file_extension": ".py",
   "mimetype": "text/x-python",
   "name": "python",
   "nbconvert_exporter": "python",
   "pygments_lexer": "ipython3",
   "version": "3.9.1"
  }
 },
 "nbformat": 4,
 "nbformat_minor": 1
}